{
  "nbformat": 4,
  "nbformat_minor": 0,
  "metadata": {
    "colab": {
      "provenance": []
    },
    "kernelspec": {
      "name": "python3",
      "display_name": "Python 3"
    },
    "language_info": {
      "name": "python"
    }
  },
  "cells": [
    {
      "cell_type": "code",
      "execution_count": null,
      "metadata": {
        "id": "sYfBGskr9-cb"
      },
      "outputs": [],
      "source": [
        "import numpy as np\n",
        "import pandas as pd\n",
        "import matplotlib as mpl"
      ]
    },
    {
      "cell_type": "code",
      "source": [
        "df_csv = pd.read_csv('notas.csv')\n",
        "df_json = pd.read_json('notas.json')\n",
        "df_excel = pd.read_excel('notas.xlsx')"
      ],
      "metadata": {
        "id": "SIRdbCD-_sF4"
      },
      "execution_count": null,
      "outputs": []
    },
    {
      "cell_type": "code",
      "source": [
        "columnas = ['Estudiante', 'Materia', 'Nota1', 'Nota2', 'Nota3']\n",
        "df_csv = df_csv[columnas]\n",
        "df_json = df_json[columnas]\n",
        "df_excel = df_excel[columnas]"
      ],
      "metadata": {
        "id": "0ryPeWrdHZ9m"
      },
      "execution_count": null,
      "outputs": []
    },
    {
      "cell_type": "code",
      "source": [
        "df_final = pd.concat([df_csv, df_json, df_excel], ignore_index=True)"
      ],
      "metadata": {
        "id": "88MLaAdwHdzM"
      },
      "execution_count": null,
      "outputs": []
    },
    {
      "cell_type": "code",
      "source": [
        "print(df_final)"
      ],
      "metadata": {
        "colab": {
          "base_uri": "https://localhost:8080/"
        },
        "id": "PfBitraeHg4-",
        "outputId": "889bc790-cdee-4877-8efc-f869d85ab574"
      },
      "execution_count": null,
      "outputs": [
        {
          "output_type": "stream",
          "name": "stdout",
          "text": [
            "   Estudiante      Materia  Nota1  Nota2  Nota3\n",
            "0        Juan  Matemáticas    3.5    4.5    5.0\n",
            "1   Alexander       Inglés    4.7    4.8    2.5\n",
            "2      Daniel      Español    3.0    4.6    2.3\n",
            "3     Daniela     Religión    4.5    5.0    4.7\n",
            "4    Cristian     Sociales    3.6    3.8    4.9\n",
            "5     Gabriel     Biología    3.0    5.0    3.7\n",
            "6        Jose   Tecnología    5.0    4.7    3.9\n",
            "7   Alejandra     Lenguaje    3.4    4.6    3.9\n",
            "8   Alejandro      Química    3.4    4.6    3.9\n",
            "9       Sofia  Matemáticas    4.8    4.6    4.5\n",
            "10      Mateo  Matemáticas    2.8    1.5    4.8\n",
            "11    Valeria     Ciencias    3.9    2.5    3.4\n",
            "12     Miguel     Lenguaje    4.0    4.6    3.8\n",
            "13      Luisa       Física    4.9    5.0    4.5\n",
            "14    Marcela     Economía    3.8    4.9    4.6\n"
          ]
        }
      ]
    },
    {
      "cell_type": "code",
      "source": [
        "df_final.to_csv('info_materias')"
      ],
      "metadata": {
        "id": "KknNhjHKHrGh"
      },
      "execution_count": null,
      "outputs": []
    }
  ]
}